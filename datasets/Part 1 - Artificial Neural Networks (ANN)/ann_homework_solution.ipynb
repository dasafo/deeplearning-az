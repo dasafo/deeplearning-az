{
 "cells": [
  {
   "cell_type": "markdown",
   "metadata": {},
   "source": [
    "# Redes Neuronales Artificales\n",
    "\n",
    " **Instalar Theano:**\n",
    " \n",
    " * pip install --upgrade --no-deps git+git://github.com/Theano/Theano.git\n",
    " \n",
    " \n",
    " **Instalar Tensorflow y Keras:**\n",
    " \n",
    " * conda install -c conda-forge keras\n",
    " "
   ]
  },
  {
   "cell_type": "markdown",
   "metadata": {},
   "source": [
    "## Parte 1 - Pre procesado de datos"
   ]
  },
  {
   "cell_type": "code",
   "execution_count": 2,
   "metadata": {},
   "outputs": [],
   "source": [
    "# Cómo importar las librerías\n",
    "import numpy as np\n",
    "import matplotlib.pyplot as plt\n",
    "import pandas as pd"
   ]
  },
  {
   "cell_type": "code",
   "execution_count": 3,
   "metadata": {},
   "outputs": [],
   "source": [
    "# Importar el data set\n",
    "dataset = pd.read_csv('Churn_Modelling.csv')\n",
    "\n",
    "X = dataset.iloc[:, 3:13].values\n",
    "y = dataset.iloc[:, 13].values"
   ]
  },
  {
   "cell_type": "code",
   "execution_count": 4,
   "metadata": {},
   "outputs": [],
   "source": [
    "# Codificar datos categóricos\n",
    "from sklearn.preprocessing import LabelEncoder\n",
    "labelencoder_X_1 = LabelEncoder()\n",
    "X[:, 1] = labelencoder_X_1.fit_transform(X[:, 1])\n",
    "labelencoder_X_2 = LabelEncoder()\n",
    "X[:, 2] = labelencoder_X_2.fit_transform(X[:, 2])"
   ]
  },
  {
   "cell_type": "code",
   "execution_count": 5,
   "metadata": {},
   "outputs": [],
   "source": [
    "#El OneHotEncoder en las nuevas versiones está OBSOLETO\n",
    "#onehotencoder = OneHotEncoder(categorical_features=[1])\n",
    "#X = onehotencoder.fit_transform(X).toarray()\n",
    "\n",
    "from sklearn.preprocessing import OneHotEncoder\n",
    "from sklearn.compose import ColumnTransformer\n",
    "\n",
    "transformer = ColumnTransformer(\n",
    "    transformers=[\n",
    "        (\"Churn_Modelling\",        # Un nombre de la transformación\n",
    "         OneHotEncoder(categories='auto'), # La clase a la que transformar\n",
    "         [1]            # Las columnas a transformar.\n",
    "         )\n",
    "    ], remainder='passthrough'\n",
    ")\n",
    "\n",
    "X = transformer.fit_transform(X)\n",
    "X = X[:, 1:]"
   ]
  },
  {
   "cell_type": "code",
   "execution_count": 6,
   "metadata": {},
   "outputs": [],
   "source": [
    "# Dividir el data set en conjunto de entrenamiento y conjunto de testing\n",
    "from sklearn.model_selection import train_test_split\n",
    "X_train, X_test, y_train, y_test = train_test_split(X, y, test_size = 0.2, random_state = 0)\n"
   ]
  },
  {
   "cell_type": "code",
   "execution_count": 7,
   "metadata": {},
   "outputs": [],
   "source": [
    "# Escalado de variables\n",
    "from sklearn.preprocessing import StandardScaler\n",
    "sc_X = StandardScaler()\n",
    "X_train = sc_X.fit_transform(X_train)\n",
    "X_test = sc_X.transform(X_test)"
   ]
  },
  {
   "cell_type": "markdown",
   "metadata": {},
   "source": [
    "## Parte 2 - Construir la RNA"
   ]
  },
  {
   "cell_type": "code",
   "execution_count": 8,
   "metadata": {},
   "outputs": [
    {
     "name": "stderr",
     "output_type": "stream",
     "text": [
      "Using TensorFlow backend.\n"
     ]
    }
   ],
   "source": [
    "# Importar Keras y librerías adicionales\n",
    "import keras\n",
    "from keras.models import Sequential\n",
    "from keras.layers import Dense"
   ]
  },
  {
   "cell_type": "code",
   "execution_count": 9,
   "metadata": {},
   "outputs": [],
   "source": [
    "# Inicializar la RNA\n",
    "classifier = Sequential()"
   ]
  },
  {
   "cell_type": "code",
   "execution_count": 10,
   "metadata": {},
   "outputs": [],
   "source": [
    "# Añadir las capas de entrada y primera capa oculta\n",
    "classifier.add(Dense(units = 6, kernel_initializer = \"uniform\",  \n",
    "                     activation = \"relu\", input_dim = 11))\n",
    "# Añadir la segunda capa oculta\n",
    "classifier.add(Dense(units = 6, kernel_initializer = \"uniform\",  activation = \"relu\"))\n",
    "\n",
    "# Añadir la capa de salida\n",
    "classifier.add(Dense(units = 1, kernel_initializer = \"uniform\",  activation = \"sigmoid\"))"
   ]
  },
  {
   "cell_type": "code",
   "execution_count": 11,
   "metadata": {},
   "outputs": [],
   "source": [
    "# Compilar la RNA\n",
    "classifier.compile(optimizer = \"adam\", loss = \"binary_crossentropy\", metrics = [\"accuracy\"])\n"
   ]
  },
  {
   "cell_type": "code",
   "execution_count": 12,
   "metadata": {},
   "outputs": [
    {
     "name": "stdout",
     "output_type": "stream",
     "text": [
      "Epoch 1/100\n",
      "8000/8000 [==============================] - 1s 135us/step - loss: 0.4806 - accuracy: 0.7960\n",
      "Epoch 2/100\n",
      "8000/8000 [==============================] - 1s 105us/step - loss: 0.4269 - accuracy: 0.7960\n",
      "Epoch 3/100\n",
      "8000/8000 [==============================] - 1s 171us/step - loss: 0.4213 - accuracy: 0.8048\n",
      "Epoch 4/100\n",
      "8000/8000 [==============================] - 1s 114us/step - loss: 0.4182 - accuracy: 0.8244\n",
      "Epoch 5/100\n",
      "8000/8000 [==============================] - 1s 120us/step - loss: 0.4155 - accuracy: 0.8280\n",
      "Epoch 6/100\n",
      "8000/8000 [==============================] - 1s 113us/step - loss: 0.4140 - accuracy: 0.8315\n",
      "Epoch 7/100\n",
      "8000/8000 [==============================] - 1s 124us/step - loss: 0.4127 - accuracy: 0.8316\n",
      "Epoch 8/100\n",
      "8000/8000 [==============================] - 1s 124us/step - loss: 0.4115 - accuracy: 0.8347\n",
      "Epoch 9/100\n",
      "8000/8000 [==============================] - 1s 120us/step - loss: 0.4101 - accuracy: 0.8335\n",
      "Epoch 10/100\n",
      "8000/8000 [==============================] - 1s 122us/step - loss: 0.4094 - accuracy: 0.8342\n",
      "Epoch 11/100\n",
      "8000/8000 [==============================] - 1s 120us/step - loss: 0.4089 - accuracy: 0.8341\n",
      "Epoch 12/100\n",
      "8000/8000 [==============================] - 1s 106us/step - loss: 0.4074 - accuracy: 0.8346\n",
      "Epoch 13/100\n",
      "8000/8000 [==============================] - 1s 118us/step - loss: 0.4071 - accuracy: 0.8351\n",
      "Epoch 14/100\n",
      "8000/8000 [==============================] - 1s 106us/step - loss: 0.4069 - accuracy: 0.8351\n",
      "Epoch 15/100\n",
      "8000/8000 [==============================] - 1s 125us/step - loss: 0.4062 - accuracy: 0.8335\n",
      "Epoch 16/100\n",
      "8000/8000 [==============================] - 1s 136us/step - loss: 0.4056 - accuracy: 0.8336\n",
      "Epoch 17/100\n",
      "8000/8000 [==============================] - 1s 132us/step - loss: 0.4055 - accuracy: 0.8360\n",
      "Epoch 18/100\n",
      "8000/8000 [==============================] - 1s 123us/step - loss: 0.4050 - accuracy: 0.8341\n",
      "Epoch 19/100\n",
      "8000/8000 [==============================] - 1s 121us/step - loss: 0.4046 - accuracy: 0.8339\n",
      "Epoch 20/100\n",
      "8000/8000 [==============================] - 1s 115us/step - loss: 0.4048 - accuracy: 0.8367\n",
      "Epoch 21/100\n",
      "8000/8000 [==============================] - 1s 133us/step - loss: 0.4042 - accuracy: 0.8335\n",
      "Epoch 22/100\n",
      "8000/8000 [==============================] - 1s 134us/step - loss: 0.4036 - accuracy: 0.8354\n",
      "Epoch 23/100\n",
      "8000/8000 [==============================] - 1s 128us/step - loss: 0.4040 - accuracy: 0.8351\n",
      "Epoch 24/100\n",
      "8000/8000 [==============================] - 1s 119us/step - loss: 0.4036 - accuracy: 0.8346\n",
      "Epoch 25/100\n",
      "8000/8000 [==============================] - 1s 136us/step - loss: 0.4036 - accuracy: 0.8347\n",
      "Epoch 26/100\n",
      "8000/8000 [==============================] - 1s 113us/step - loss: 0.4033 - accuracy: 0.8342\n",
      "Epoch 27/100\n",
      "8000/8000 [==============================] - 1s 134us/step - loss: 0.4033 - accuracy: 0.83530s - loss: 0.4027 - accuracy: \n",
      "Epoch 28/100\n",
      "8000/8000 [==============================] - 1s 113us/step - loss: 0.4026 - accuracy: 0.8347\n",
      "Epoch 29/100\n",
      "8000/8000 [==============================] - 1s 135us/step - loss: 0.4028 - accuracy: 0.8345\n",
      "Epoch 30/100\n",
      "8000/8000 [==============================] - 1s 108us/step - loss: 0.4026 - accuracy: 0.8345\n",
      "Epoch 31/100\n",
      "8000/8000 [==============================] - 1s 139us/step - loss: 0.4026 - accuracy: 0.8321\n",
      "Epoch 32/100\n",
      "8000/8000 [==============================] - 1s 132us/step - loss: 0.4021 - accuracy: 0.8346\n",
      "Epoch 33/100\n",
      "8000/8000 [==============================] - 1s 129us/step - loss: 0.4029 - accuracy: 0.8349\n",
      "Epoch 34/100\n",
      "8000/8000 [==============================] - 1s 109us/step - loss: 0.4025 - accuracy: 0.8338\n",
      "Epoch 35/100\n",
      "8000/8000 [==============================] - 1s 133us/step - loss: 0.4022 - accuracy: 0.8350\n",
      "Epoch 36/100\n",
      "8000/8000 [==============================] - 1s 112us/step - loss: 0.4023 - accuracy: 0.8347\n",
      "Epoch 37/100\n",
      "8000/8000 [==============================] - 1s 119us/step - loss: 0.4024 - accuracy: 0.8357\n",
      "Epoch 38/100\n",
      "8000/8000 [==============================] - 1s 124us/step - loss: 0.4023 - accuracy: 0.8345\n",
      "Epoch 39/100\n",
      "8000/8000 [==============================] - 1s 134us/step - loss: 0.4020 - accuracy: 0.8351\n",
      "Epoch 40/100\n",
      "8000/8000 [==============================] - 1s 118us/step - loss: 0.4019 - accuracy: 0.8332\n",
      "Epoch 41/100\n",
      "8000/8000 [==============================] - 1s 132us/step - loss: 0.4022 - accuracy: 0.8344\n",
      "Epoch 42/100\n",
      "8000/8000 [==============================] - 1s 113us/step - loss: 0.4020 - accuracy: 0.8353\n",
      "Epoch 43/100\n",
      "8000/8000 [==============================] - 1s 128us/step - loss: 0.4021 - accuracy: 0.8350\n",
      "Epoch 44/100\n",
      "8000/8000 [==============================] - 1s 110us/step - loss: 0.4023 - accuracy: 0.8341\n",
      "Epoch 45/100\n",
      "8000/8000 [==============================] - 1s 121us/step - loss: 0.4014 - accuracy: 0.8351\n",
      "Epoch 46/100\n",
      "8000/8000 [==============================] - 1s 114us/step - loss: 0.4016 - accuracy: 0.8334\n",
      "Epoch 47/100\n",
      "8000/8000 [==============================] - 1s 121us/step - loss: 0.4018 - accuracy: 0.8341\n",
      "Epoch 48/100\n",
      "8000/8000 [==============================] - 1s 142us/step - loss: 0.4019 - accuracy: 0.8340\n",
      "Epoch 49/100\n",
      "8000/8000 [==============================] - 1s 121us/step - loss: 0.4019 - accuracy: 0.8336\n",
      "Epoch 50/100\n",
      "8000/8000 [==============================] - 1s 116us/step - loss: 0.4018 - accuracy: 0.8341\n",
      "Epoch 51/100\n",
      "8000/8000 [==============================] - 1s 121us/step - loss: 0.4018 - accuracy: 0.8336\n",
      "Epoch 52/100\n",
      "8000/8000 [==============================] - 1s 115us/step - loss: 0.4016 - accuracy: 0.8345\n",
      "Epoch 53/100\n",
      "8000/8000 [==============================] - 1s 126us/step - loss: 0.4013 - accuracy: 0.8354\n",
      "Epoch 54/100\n",
      "8000/8000 [==============================] - 1s 119us/step - loss: 0.4016 - accuracy: 0.8339\n",
      "Epoch 55/100\n",
      "8000/8000 [==============================] - 1s 118us/step - loss: 0.4016 - accuracy: 0.8363\n",
      "Epoch 56/100\n",
      "8000/8000 [==============================] - 1s 113us/step - loss: 0.4014 - accuracy: 0.8339\n",
      "Epoch 57/100\n",
      "8000/8000 [==============================] - 1s 115us/step - loss: 0.4016 - accuracy: 0.8355\n",
      "Epoch 58/100\n",
      "8000/8000 [==============================] - 1s 125us/step - loss: 0.4015 - accuracy: 0.8341\n",
      "Epoch 59/100\n",
      "8000/8000 [==============================] - 1s 116us/step - loss: 0.4014 - accuracy: 0.8355\n",
      "Epoch 60/100\n",
      "8000/8000 [==============================] - 1s 125us/step - loss: 0.4010 - accuracy: 0.8357\n",
      "Epoch 61/100\n",
      "8000/8000 [==============================] - 1s 114us/step - loss: 0.4015 - accuracy: 0.8345\n",
      "Epoch 62/100\n",
      "8000/8000 [==============================] - 1s 126us/step - loss: 0.4012 - accuracy: 0.8353\n",
      "Epoch 63/100\n",
      "8000/8000 [==============================] - 1s 113us/step - loss: 0.4012 - accuracy: 0.8339\n",
      "Epoch 64/100\n",
      "8000/8000 [==============================] - 1s 151us/step - loss: 0.4010 - accuracy: 0.8338\n",
      "Epoch 65/100\n",
      "8000/8000 [==============================] - 1s 119us/step - loss: 0.4005 - accuracy: 0.8354\n",
      "Epoch 66/100\n",
      "8000/8000 [==============================] - 1s 124us/step - loss: 0.4011 - accuracy: 0.8353\n",
      "Epoch 67/100\n",
      "8000/8000 [==============================] - 1s 113us/step - loss: 0.4012 - accuracy: 0.8342\n",
      "Epoch 68/100\n",
      "8000/8000 [==============================] - 1s 137us/step - loss: 0.4012 - accuracy: 0.8367\n",
      "Epoch 69/100\n",
      "8000/8000 [==============================] - 1s 116us/step - loss: 0.4008 - accuracy: 0.8334\n",
      "Epoch 70/100\n",
      "8000/8000 [==============================] - 1s 127us/step - loss: 0.4014 - accuracy: 0.8342\n",
      "Epoch 71/100\n",
      "8000/8000 [==============================] - 1s 115us/step - loss: 0.4006 - accuracy: 0.8359\n",
      "Epoch 72/100\n",
      "8000/8000 [==============================] - 1s 130us/step - loss: 0.4011 - accuracy: 0.8347\n",
      "Epoch 73/100\n",
      "8000/8000 [==============================] - 1s 115us/step - loss: 0.4013 - accuracy: 0.8345\n",
      "Epoch 74/100\n",
      "8000/8000 [==============================] - 1s 124us/step - loss: 0.4005 - accuracy: 0.8357\n",
      "Epoch 75/100\n",
      "8000/8000 [==============================] - 1s 115us/step - loss: 0.4007 - accuracy: 0.8324\n",
      "Epoch 76/100\n",
      "8000/8000 [==============================] - 1s 126us/step - loss: 0.4008 - accuracy: 0.8365\n",
      "Epoch 77/100\n",
      "8000/8000 [==============================] - 1s 117us/step - loss: 0.4003 - accuracy: 0.8359\n",
      "Epoch 78/100\n"
     ]
    },
    {
     "name": "stdout",
     "output_type": "stream",
     "text": [
      "8000/8000 [==============================] - 1s 104us/step - loss: 0.4010 - accuracy: 0.8356\n",
      "Epoch 79/100\n",
      "8000/8000 [==============================] - 1s 96us/step - loss: 0.4009 - accuracy: 0.8342\n",
      "Epoch 80/100\n",
      "8000/8000 [==============================] - 1s 99us/step - loss: 0.4012 - accuracy: 0.8361\n",
      "Epoch 81/100\n",
      "8000/8000 [==============================] - 1s 116us/step - loss: 0.4010 - accuracy: 0.8355\n",
      "Epoch 82/100\n",
      "8000/8000 [==============================] - 1s 101us/step - loss: 0.4011 - accuracy: 0.8356\n",
      "Epoch 83/100\n",
      "8000/8000 [==============================] - 1s 101us/step - loss: 0.4010 - accuracy: 0.8345\n",
      "Epoch 84/100\n",
      "8000/8000 [==============================] - 1s 96us/step - loss: 0.4004 - accuracy: 0.8353\n",
      "Epoch 85/100\n",
      "8000/8000 [==============================] - 1s 100us/step - loss: 0.4013 - accuracy: 0.8365\n",
      "Epoch 86/100\n",
      "8000/8000 [==============================] - 1s 97us/step - loss: 0.4009 - accuracy: 0.8359\n",
      "Epoch 87/100\n",
      "8000/8000 [==============================] - 1s 96us/step - loss: 0.4008 - accuracy: 0.8356\n",
      "Epoch 88/100\n",
      "8000/8000 [==============================] - 1s 104us/step - loss: 0.4009 - accuracy: 0.8360\n",
      "Epoch 89/100\n",
      "8000/8000 [==============================] - 1s 96us/step - loss: 0.4006 - accuracy: 0.8350\n",
      "Epoch 90/100\n",
      "8000/8000 [==============================] - 1s 100us/step - loss: 0.4009 - accuracy: 0.8349\n",
      "Epoch 91/100\n",
      "8000/8000 [==============================] - 1s 98us/step - loss: 0.4009 - accuracy: 0.8371\n",
      "Epoch 92/100\n",
      "8000/8000 [==============================] - 1s 97us/step - loss: 0.4009 - accuracy: 0.8360\n",
      "Epoch 93/100\n",
      "8000/8000 [==============================] - 1s 102us/step - loss: 0.4004 - accuracy: 0.8360\n",
      "Epoch 94/100\n",
      "8000/8000 [==============================] - 1s 97us/step - loss: 0.4005 - accuracy: 0.8347\n",
      "Epoch 95/100\n",
      "8000/8000 [==============================] - 1s 100us/step - loss: 0.4009 - accuracy: 0.8359\n",
      "Epoch 96/100\n",
      "8000/8000 [==============================] - 1s 99us/step - loss: 0.4006 - accuracy: 0.8365\n",
      "Epoch 97/100\n",
      "8000/8000 [==============================] - 1s 97us/step - loss: 0.4004 - accuracy: 0.8363\n",
      "Epoch 98/100\n",
      "8000/8000 [==============================] - 1s 100us/step - loss: 0.4005 - accuracy: 0.8341\n",
      "Epoch 99/100\n",
      "8000/8000 [==============================] - 1s 97us/step - loss: 0.4005 - accuracy: 0.8354\n",
      "Epoch 100/100\n",
      "8000/8000 [==============================] - 1s 96us/step - loss: 0.4010 - accuracy: 0.8360\n"
     ]
    },
    {
     "data": {
      "text/plain": [
       "<keras.callbacks.callbacks.History at 0x7fb9bc2aa990>"
      ]
     },
     "execution_count": 12,
     "metadata": {},
     "output_type": "execute_result"
    }
   ],
   "source": [
    "# Ajustamos la RNA al Conjunto de Entrenamiento\n",
    "classifier.fit(X_train, y_train,  batch_size = 10, epochs = 100)"
   ]
  },
  {
   "cell_type": "markdown",
   "metadata": {},
   "source": [
    "## Parte 3 - Evaluar el modelo y calcular predicciones finales"
   ]
  },
  {
   "cell_type": "code",
   "execution_count": 12,
   "metadata": {},
   "outputs": [],
   "source": [
    "# Predicción de los resultados con el Conjunto de Testing\n",
    "y_pred  = classifier.predict(X_test)\n",
    "y_pred = (y_pred>0.5)"
   ]
  },
  {
   "cell_type": "markdown",
   "metadata": {},
   "source": [
    "# Predecir una nueva observación\n",
    "\n",
    "Utiliza nuestro modelo de RNA para predecir si el cliente con la siguiente información abandonará el banco:\n",
    "\n",
    "*   Geografia: Francia\n",
    "*   Puntaje de crédito: 600\n",
    "*   Género masculino\n",
    "*   Edad: 40 años de edad\n",
    "*   Tenencia: 3 años.\n",
    "*   Saldo: $ 60000\n",
    "\n",
    "*   Número de productos: 2\n",
    "*   ¿Este cliente tiene una tarjeta de crédito? Sí\n",
    "*   ¿Es este cliente un miembro activo? Sí\n",
    "*   Salario estimado: $ 50000\n",
    "\n",
    "Entonces, ¿deberíamos decir adiós a ese cliente?"
   ]
  },
  {
   "cell_type": "code",
   "execution_count": 1,
   "metadata": {},
   "outputs": [
    {
     "ename": "NameError",
     "evalue": "name 'classifier' is not defined",
     "output_type": "error",
     "traceback": [
      "\u001b[0;31m---------------------------------------------------------------------------\u001b[0m",
      "\u001b[0;31mNameError\u001b[0m                                 Traceback (most recent call last)",
      "\u001b[0;32m<ipython-input-1-8d8061bedd57>\u001b[0m in \u001b[0;36m<module>\u001b[0;34m\u001b[0m\n\u001b[0;32m----> 1\u001b[0;31m \u001b[0mnew_prediction\u001b[0m \u001b[0;34m=\u001b[0m \u001b[0mclassifier\u001b[0m\u001b[0;34m.\u001b[0m\u001b[0mpredict\u001b[0m\u001b[0;34m(\u001b[0m\u001b[0msc_X\u001b[0m\u001b[0;34m.\u001b[0m\u001b[0mtransform\u001b[0m\u001b[0;34m(\u001b[0m\u001b[0mnp\u001b[0m\u001b[0;34m.\u001b[0m\u001b[0marray\u001b[0m\u001b[0;34m(\u001b[0m\u001b[0;34m[\u001b[0m\u001b[0;34m[\u001b[0m\u001b[0;36m0\u001b[0m\u001b[0;34m,\u001b[0m\u001b[0;36m0\u001b[0m\u001b[0;34m,\u001b[0m\u001b[0;36m600\u001b[0m\u001b[0;34m,\u001b[0m \u001b[0;36m1\u001b[0m\u001b[0;34m,\u001b[0m \u001b[0;36m40\u001b[0m\u001b[0;34m,\u001b[0m \u001b[0;36m3\u001b[0m\u001b[0;34m,\u001b[0m \u001b[0;36m60000\u001b[0m\u001b[0;34m,\u001b[0m \u001b[0;36m2\u001b[0m\u001b[0;34m,\u001b[0m \u001b[0;36m1\u001b[0m\u001b[0;34m,\u001b[0m \u001b[0;36m1\u001b[0m\u001b[0;34m,\u001b[0m \u001b[0;36m50000\u001b[0m\u001b[0;34m]\u001b[0m\u001b[0;34m]\u001b[0m\u001b[0;34m)\u001b[0m\u001b[0;34m)\u001b[0m\u001b[0;34m)\u001b[0m\u001b[0;34m\u001b[0m\u001b[0;34m\u001b[0m\u001b[0m\n\u001b[0m\u001b[1;32m      2\u001b[0m \u001b[0mnew_prediction\u001b[0m \u001b[0;34m=\u001b[0m \u001b[0;34m(\u001b[0m\u001b[0mnew_prediction\u001b[0m \u001b[0;34m>\u001b[0m \u001b[0;36m0.5\u001b[0m\u001b[0;34m)\u001b[0m\u001b[0;34m\u001b[0m\u001b[0;34m\u001b[0m\u001b[0m\n\u001b[1;32m      3\u001b[0m \u001b[0;34m\u001b[0m\u001b[0m\n\u001b[1;32m      4\u001b[0m \u001b[0;31m# Elaborar una matriz de confusión\u001b[0m\u001b[0;34m\u001b[0m\u001b[0;34m\u001b[0m\u001b[0;34m\u001b[0m\u001b[0m\n\u001b[1;32m      5\u001b[0m \u001b[0;32mfrom\u001b[0m \u001b[0msklearn\u001b[0m\u001b[0;34m.\u001b[0m\u001b[0mmetrics\u001b[0m \u001b[0;32mimport\u001b[0m \u001b[0mconfusion_matrix\u001b[0m\u001b[0;34m\u001b[0m\u001b[0;34m\u001b[0m\u001b[0m\n",
      "\u001b[0;31mNameError\u001b[0m: name 'classifier' is not defined"
     ]
    }
   ],
   "source": [
    "new_prediction = classifier.predict(sc_X.transform(np.array([[0,0,600, 1, 40, 3, 60000, 2, 1, 1, 50000]])))\n",
    "new_prediction = (new_prediction > 0.5)\n",
    "\n",
    "# Elaborar una matriz de confusión\n",
    "from sklearn.metrics import confusion_matrix\n",
    "cm = confusion_matrix(y_test, y_pred)\n",
    "print(cm)\n",
    "print((cm[0][0]+cm[1][1])/cm.sum())\n"
   ]
  },
  {
   "cell_type": "code",
   "execution_count": null,
   "metadata": {},
   "outputs": [],
   "source": []
  }
 ],
 "metadata": {
  "kernelspec": {
   "display_name": "Python 3",
   "language": "python",
   "name": "python3"
  },
  "language_info": {
   "codemirror_mode": {
    "name": "ipython",
    "version": 3
   },
   "file_extension": ".py",
   "mimetype": "text/x-python",
   "name": "python",
   "nbconvert_exporter": "python",
   "pygments_lexer": "ipython3",
   "version": "3.7.6"
  }
 },
 "nbformat": 4,
 "nbformat_minor": 4
}
