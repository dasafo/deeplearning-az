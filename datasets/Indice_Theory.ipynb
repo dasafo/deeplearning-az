{
 "cells": [
  {
   "cell_type": "markdown",
   "metadata": {},
   "source": [
    "# _______________ Indice Curso ______________"
   ]
  },
  {
   "cell_type": "markdown",
   "metadata": {},
   "source": [
    "<img src=\"img/redes_neuronales.jpg\" width=\"800\">"
   ]
  },
  {
   "cell_type": "markdown",
   "metadata": {},
   "source": [
    "## 1. Artifical Neural Networks (ANN)\n",
    "\n",
    "- [ann_theory_1](Part_1_Artificial_Neural_Networks_ANN/ann_theory_1.ipynb)\n",
    "- [ann_theory_2](Part_1_Artificial_Neural_Networks_ANN/ann_theory_2.ipynb)\n",
    "- [ann_theory_3](Part_1_Artificial_Neural_Networks_ANN/ann_theory_3.ipynb)"
   ]
  },
  {
   "cell_type": "markdown",
   "metadata": {},
   "source": [
    "## 2. Convolutional Neural Networks (CNN)\n",
    "\n",
    "$\\bullet$    [cnn_theory](Part_2_Convolutional_Neural_Networks_CNN/cnn_theory.ipynb)"
   ]
  },
  {
   "cell_type": "markdown",
   "metadata": {},
   "source": [
    "## 3. Recurrent Neural Networks (RNN)\n",
    "\n",
    "$\\bullet$    [rnn_theory](Part_3_Recurrent_Neural_Networks_RNN/rnn_theory.ipynb)"
   ]
  },
  {
   "cell_type": "markdown",
   "metadata": {},
   "source": [
    "## 4. Self Organizing Maps (SOM)\n",
    "\n",
    "$\\bullet$    [som_theory](Part_4_Self_Organizing_Maps_SOM/som_theory.ipynb)"
   ]
  },
  {
   "cell_type": "markdown",
   "metadata": {},
   "source": [
    "## 5. Boltzmann Machines (BM)\n",
    "\n",
    "$\\bullet$    [bm_theory](Part_5_Boltzmann_Machines_BM/bm_theory.ipynb)"
   ]
  },
  {
   "cell_type": "markdown",
   "metadata": {},
   "source": [
    "## 6. AutoEncoders (AE)\n",
    "\n",
    "$\\bullet$    [ae_theory](Part_6_AutoEncoders_AE/ae_theory.ipynb)"
   ]
  }
 ],
 "metadata": {
  "kernelspec": {
   "display_name": "Python 3",
   "language": "python",
   "name": "python3"
  },
  "language_info": {
   "codemirror_mode": {
    "name": "ipython",
    "version": 3
   },
   "file_extension": ".py",
   "mimetype": "text/x-python",
   "name": "python",
   "nbconvert_exporter": "python",
   "pygments_lexer": "ipython3",
   "version": "3.7.6"
  }
 },
 "nbformat": 4,
 "nbformat_minor": 4
}
