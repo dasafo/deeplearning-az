{
 "cells": [
  {
   "cell_type": "markdown",
   "metadata": {},
   "source": [
    "# --- Máquinas de Boltzmann ---"
   ]
  },
  {
   "cell_type": "markdown",
   "metadata": {},
   "source": [
    "Hasta ahora los modelos que hemos visto tenían una cierta dirección, una entrada y una salida, o de izquierda a derecha si lo preferimos, pero una máquina de Boltzmann no tienen una dirección ya que todo está conectado con todo, como podemos ver aquí abajo.\n",
    "\n",
    "En este modelo tenemos entradas, pero no hay salida. El flujo de datos ocurre en sentido bidireccional."
   ]
  },
  {
   "cell_type": "markdown",
   "metadata": {},
   "source": [
    "<img src=\"../img/bm_1.jpg\" width=\"500\">"
   ]
  },
  {
   "cell_type": "markdown",
   "metadata": {},
   "source": [
    "# Modelos basados en Energía (EBM)"
   ]
  },
  {
   "cell_type": "markdown",
   "metadata": {},
   "source": [
    "<img src=\"../img/bm_2.jpg\" width=\"500\">"
   ]
  },
  {
   "cell_type": "markdown",
   "metadata": {},
   "source": [
    "- $\\normalsize\\textbf p_i$ es la probabilidad en una **distribución de Boltzmann** y nos indica la probabilidad que nuestro sistema se encuentre en el estado i-esimo. Siendo $\\varepsilon_{i}$ la energía del sistema en el estado i-esimo, $k$ es la constante de Boltzmann y $T$ es la temperatura del sistema. Lo que nos indica que el sistema siempre tenderá a buscar aquel que cuya energía sea la más baja (entropía máxima).\n",
    "\n",
    "- Utilizándo este símil, la energía se define en una *máquina de Boltzmann* através de los pesos de las conexiones-sinapsis. Por lo tanto una vez entrenado ese sistema, éste intenta buscar la mínima energía.\n",
    "\n",
    "- $\\normalsize\\textbf E(v,h)$ es un ejemplo de energía para una **máquina de Boltzmann restringida** (se ve más adelante). $\\normalsize\\textbf a_i$ y $\\normalsize\\textbf b_j$ son unos pesos que multiplican a la energía visible del nodo $\\normalsize\\textbf v_i$ *(visible)* y del nodo oculto $\\normalsize\\textbf h_j$ *(hidden)*, que determinan la enervía del sistema. Y $\\normalsize\\textbf W_{i,j}$ es una combinación de los pesos anteriores que el sistema determina.\n",
    "\n",
    "- $\\normalsize\\textbf P(v,h)$ será la probabilidad de Boltzmann para la energía definida en esa *máquina de Boltmann restringida*. Siendo $Z$ la suma de cada uno de los estado en los que podría estar el sistema."
   ]
  },
  {
   "cell_type": "markdown",
   "metadata": {},
   "source": [
    "# Máquina de Boltzmann Restringida (RBM)\n",
    "\n",
    "En la Máquina de Boltzmann de antes, los nodos visibles podrían estar conectados entre ellos, en cambio en una **Máquina de Boltzmann Restringida** no. Se usan para reducir la complejidad de cálculo, ya que en las máquinas de Boltzmann ideales cada vez que se añade un nodo, su complejidad crece de forma exponencial."
   ]
  },
  {
   "cell_type": "markdown",
   "metadata": {},
   "source": [
    "## Ejemplo de recomendación de películas en Netflix:\n",
    "<img src=\"../img/bm_3.jpg\" width=\"800\">"
   ]
  },
  {
   "cell_type": "markdown",
   "metadata": {},
   "source": [
    "Para crear el sistema de recomendaciones de películas una vez el usuario ha visto una, se usará la máquina de Boltzmann que recordemos que es un tipo de modelo que genera constantemente estados, estados. Y luego le suministramos datos del dataset para que entrene, y la máquina genera esas interconexiones utilizando el **método de la divergencia contrastante**."
   ]
  },
  {
   "cell_type": "markdown",
   "metadata": {},
   "source": [
    "<img src=\"../img/bm_4.jpg\" width=\"700\">"
   ]
  },
  {
   "cell_type": "markdown",
   "metadata": {},
   "source": [
    "# Divergencia Contrastante"
   ]
  },
  {
   "cell_type": "markdown",
   "metadata": {},
   "source": [
    "Abajo en color azúl los nodos de entrada y arriba de color rojo los nodos ocultos. Esquema visto con desplazamiento temporal."
   ]
  },
  {
   "cell_type": "markdown",
   "metadata": {},
   "source": [
    "<img src=\"../img/bm_5.jpg\" width=\"700\">"
   ]
  },
  {
   "cell_type": "markdown",
   "metadata": {},
   "source": [
    "El algortimo de Boltzmann asignará aleatoriamente unos pesos entre los nodos de entrada y los ocultos. Si cambian los nodos ocultos también cambiarán los nodos de entrada originales. Hay que tener claro que los pesos no cambian aquí. Los datos de los nodos cambiarán en el tiempo, lo que es conocido como el **muestreo de Gibbs**."
   ]
  },
  {
   "cell_type": "markdown",
   "metadata": {},
   "source": [
    "<img src=\"../img/bm_6.jpg\" width=\"700\">"
   ]
  },
  {
   "cell_type": "markdown",
   "metadata": {},
   "source": [
    "En términos de la curva de la energía se ve lo de arriba. VEmos como cambia el estado del sistema cuando realizamos modificaciones. Siendo $<v_i^0 h_j^0>$ el estado inicial de la capa visible y de la capa oculta respectivamente, $<v_i^{\\infty} h_j^{\\infty}>$, $w_{ij}$ los pesos. \n",
    "\n",
    "Vemos que el sistema en cada iteración busca el estado de mínima energía posible (mínimo global)"
   ]
  },
  {
   "cell_type": "markdown",
   "metadata": {},
   "source": [
    "<img src=\"../img/bm_7.jpg\" width=\"700\">"
   ]
  },
  {
   "cell_type": "markdown",
   "metadata": {},
   "source": [
    "# Red de Creencia Profunda (DFN)\n",
    "\n",
    "Es una red con máquinas de Boltzmann apiladas, la capa oculta de la primera entrada se convierte en visible para la capa oculta superior y así todo el rato."
   ]
  },
  {
   "cell_type": "markdown",
   "metadata": {},
   "source": [
    "<img src=\"../img/bm_8.jpg\" width=\"500\">"
   ]
  },
  {
   "cell_type": "code",
   "execution_count": null,
   "metadata": {},
   "outputs": [],
   "source": []
  }
 ],
 "metadata": {
  "kernelspec": {
   "display_name": "Python 3",
   "language": "python",
   "name": "python3"
  },
  "language_info": {
   "codemirror_mode": {
    "name": "ipython",
    "version": 3
   },
   "file_extension": ".py",
   "mimetype": "text/x-python",
   "name": "python",
   "nbconvert_exporter": "python",
   "pygments_lexer": "ipython3",
   "version": "3.7.6"
  }
 },
 "nbformat": 4,
 "nbformat_minor": 4
}
