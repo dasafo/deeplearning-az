{
 "cells": [
  {
   "cell_type": "markdown",
   "metadata": {},
   "source": [
    "### Ejemplo de una red neuronal para la compra-venta de casas y determinar el precio:"
   ]
  },
  {
   "cell_type": "markdown",
   "metadata": {},
   "source": [
    "<img src=\"../img/funcionamiento_1.jpg\" width=\"600\">"
   ]
  },
  {
   "cell_type": "markdown",
   "metadata": {},
   "source": [
    "* Cada neurona de la **capa oculta** está conectada con todos los datos de entrada, en el dibujo de arriba solo se muestran aquellos valores de la **capa de entrada** que más peso se le da a cada neurona de la **capa oculta**.\n",
    "* Por ejemplo la primera neurona buscará casas grandes y lejos de la ciudad"
   ]
  },
  {
   "cell_type": "markdown",
   "metadata": {},
   "source": [
    "<img src=\"../img/funcionamiento_2.jpg\" width=\"700\">"
   ]
  },
  {
   "cell_type": "markdown",
   "metadata": {},
   "source": [
    "El **valor actual** (y) es el valor que debería dar, y el **valor de salida** ($\\hat{y}$) es que nos saca la ANN.\n",
    "\n",
    "La **función de costes** (C) nos indica cuán alejado está el valor obtenido ($\\hat{y}$) y el real (y). En la imágen vemos la forma típica de determinar dicha función, pero hay más *(todas tienen que ser convexas)*."
   ]
  },
  {
   "cell_type": "markdown",
   "metadata": {},
   "source": [
    "<img src=\"../img/funcionamiento_3.jpg\" width=\"700\">"
   ]
  },
  {
   "cell_type": "markdown",
   "metadata": {},
   "source": [
    "El valor de la función de costes se vuelve a introducir en la neurona y de ahí hacia los pesos. Estos pesos se cambiarán para minimizar el valor de esta función."
   ]
  },
  {
   "cell_type": "markdown",
   "metadata": {},
   "source": [
    "<img src=\"../img/funcionamiento_4.jpg\" width=\"800\">"
   ]
  },
  {
   "cell_type": "markdown",
   "metadata": {},
   "source": []
  }
 ],
 "metadata": {
  "kernelspec": {
   "display_name": "Python 3",
   "language": "python",
   "name": "python3"
  },
  "language_info": {
   "codemirror_mode": {
    "name": "ipython",
    "version": 3
   },
   "file_extension": ".py",
   "mimetype": "text/x-python",
   "name": "python",
   "nbconvert_exporter": "python",
   "pygments_lexer": "ipython3",
   "version": "3.7.6"
  }
 },
 "nbformat": 4,
 "nbformat_minor": 4
}
