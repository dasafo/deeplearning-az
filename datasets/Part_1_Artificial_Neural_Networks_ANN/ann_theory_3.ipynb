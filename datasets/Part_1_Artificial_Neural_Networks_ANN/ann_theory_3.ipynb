{
 "cells": [
  {
   "cell_type": "markdown",
   "metadata": {},
   "source": [
    "# Optimización de la función de costes (C)"
   ]
  },
  {
   "cell_type": "markdown",
   "metadata": {},
   "source": [
    "### **1-**\n",
    "\n",
    "Medir la pendiente de la función de costes mediante. Si es positiva, la \"pelota\" estará apuntando hacia abajo (y viceversa). Nuestro objetivo es conseguir una pendiente 0 (abajo del todo)."
   ]
  },
  {
   "cell_type": "markdown",
   "metadata": {},
   "source": [
    "<img src=\"../img/gradiente_descendente_1.jpg\" width=\"700\">"
   ]
  },
  {
   "cell_type": "markdown",
   "metadata": {},
   "source": [
    "### **2-**\n",
    "**El método descendente estocástico**: Vamos dándo una cierta aleatoriedad a la hora de buscar, ya que si la función de costes no es convexa, nos podríamos quedar en un mínimo relativo y no en el absoluto.\n",
    "    "
   ]
  },
  {
   "cell_type": "markdown",
   "metadata": {},
   "source": [
    "<img src=\"../img/gradiente_descendente_2.jpg\" width=\"600\">"
   ]
  },
  {
   "cell_type": "markdown",
   "metadata": {},
   "source": [
    "<img src=\"../img/gradiente_descendente_3.jpg\" width=\"800\">"
   ]
  },
  {
   "cell_type": "markdown",
   "metadata": {},
   "source": [
    "**Gradiente Descendente por bloques:** Sería si una vez que le damos toda la información a la neurona y esta nos da una salida, aplicaramos una vez la función de costes y se corrigieran todos los pesos a la vez.\n",
    "\n",
    "**Gradiente Descendente Estocástico:** La correción de la función de costes y su consiguiente correción en los pesos se va aplicando poco a poco.\n",
    "\n",
    "**Fusión de ambos:** Coge lo mejor de los anteriores, coge pequeños bloques y los va pasando."
   ]
  },
  {
   "cell_type": "markdown",
   "metadata": {},
   "source": [
    "<img src=\"../img/gradiente_descendente_4.jpg\" width=\"700\">"
   ]
  },
  {
   "cell_type": "markdown",
   "metadata": {},
   "source": [
    "# **Resumen de una RNA**"
   ]
  },
  {
   "cell_type": "markdown",
   "metadata": {},
   "source": [
    "<img src=\"../img/gradiente_descendente_5.jpg\" width=\"800\">"
   ]
  },
  {
   "cell_type": "code",
   "execution_count": null,
   "metadata": {},
   "outputs": [],
   "source": []
  }
 ],
 "metadata": {
  "kernelspec": {
   "display_name": "Python 3",
   "language": "python",
   "name": "python3"
  },
  "language_info": {
   "codemirror_mode": {
    "name": "ipython",
    "version": 3
   },
   "file_extension": ".py",
   "mimetype": "text/x-python",
   "name": "python",
   "nbconvert_exporter": "python",
   "pygments_lexer": "ipython3",
   "version": "3.7.6"
  }
 },
 "nbformat": 4,
 "nbformat_minor": 4
}
