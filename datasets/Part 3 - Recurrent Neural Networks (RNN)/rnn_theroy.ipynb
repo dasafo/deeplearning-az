{
 "cells": [
  {
   "cell_type": "markdown",
   "metadata": {},
   "source": [
    "# **Redes Neuronales Recurrentes** (RNN)"
   ]
  },
  {
   "cell_type": "markdown",
   "metadata": {},
   "source": [
    "<img src=\"../img/rnr_1.jpg\" width=\"500\">"
   ]
  },
  {
   "cell_type": "markdown",
   "metadata": {},
   "source": [
    "Colores del esquema simplificado de una red neuronal:\n",
    "\n",
    "    amarillo--> Vector de entrada\n",
    "    azúl--> Capas ocultas (cada circulo representa más capas ocultas)\n",
    "    rojo--> vector de salida"
   ]
  },
  {
   "cell_type": "markdown",
   "metadata": {},
   "source": [
    "En ocasiones las capas ocultas volverán sobre si mismas en cada iteración, de ahí lo de **Recurrentes**.\n",
    "\n",
    "## Ejemplos:"
   ]
  },
  {
   "cell_type": "markdown",
   "metadata": {},
   "source": [
    "<img src=\"../img/rnr_2.jpg\" width=\"800\">"
   ]
  },
  {
   "cell_type": "markdown",
   "metadata": {},
   "source": [
    " **One to Many:** Tenemos solo un valor posible de entrada y muchos de salida posibles. Un ejemplo es cuando suminstramos una imágen a una red neuronal que nos describe lo que hay.\n",
    " \n",
    "**Many to One:** Tenemos varios inputs y una sola salida, como podía ser el análisis de texto que nos dijese si ese tecto es algo positivo o negativo.\n",
    "\n",
    "**Many to Many:** Muchos inputs de entrada y outputs de salida. Como por ejemplo está el google translator. O de los subtitulos a las películas."
   ]
  },
  {
   "cell_type": "code",
   "execution_count": null,
   "metadata": {},
   "outputs": [],
   "source": []
  }
 ],
 "metadata": {
  "kernelspec": {
   "display_name": "Python 3",
   "language": "python",
   "name": "python3"
  },
  "language_info": {
   "codemirror_mode": {
    "name": "ipython",
    "version": 3
   },
   "file_extension": ".py",
   "mimetype": "text/x-python",
   "name": "python",
   "nbconvert_exporter": "python",
   "pygments_lexer": "ipython3",
   "version": "3.7.6"
  }
 },
 "nbformat": 4,
 "nbformat_minor": 4
}
