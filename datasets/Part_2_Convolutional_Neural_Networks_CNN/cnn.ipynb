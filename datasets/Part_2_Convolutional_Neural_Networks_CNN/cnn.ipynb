{
 "cells": [
  {
   "cell_type": "markdown",
   "metadata": {},
   "source": [
    "# Redes Neuronales Convolucionales\n",
    "\n",
    "**Instalar Theano**\n",
    "\n",
    "* pip install --upgrade --no-deps git+git://github.com/Theano/Theano.git\n",
    "\n",
    "\n",
    "**Instalar Tensorflow y Keras**\n",
    "\n",
    "* conda install -c conda-forge keras"
   ]
  },
  {
   "cell_type": "markdown",
   "metadata": {},
   "source": [
    "## Parte 1 - Construir el modelo de CNN"
   ]
  },
  {
   "cell_type": "code",
   "execution_count": 1,
   "metadata": {},
   "outputs": [
    {
     "name": "stderr",
     "output_type": "stream",
     "text": [
      "Using TensorFlow backend.\n"
     ]
    }
   ],
   "source": [
    "# Importar las liobrerías y paquetes\n",
    "from keras.models import Sequential #para incializar la RN con pesos aleatorios\n",
    "from keras.layers import Conv2D\n",
    "from keras.layers import MaxPooling2D\n",
    "from keras.layers import Flatten\n",
    "from keras.layers import Dense"
   ]
  },
  {
   "cell_type": "code",
   "execution_count": 3,
   "metadata": {},
   "outputs": [],
   "source": [
    "# Inicializar la CNN\n",
    "classifier = Sequential() #arrancamos la RN"
   ]
  },
  {
   "cell_type": "markdown",
   "metadata": {},
   "source": [
    "### --- Paso 1 - Convolución"
   ]
  },
  {
   "cell_type": "code",
   "execution_count": 4,
   "metadata": {},
   "outputs": [],
   "source": [
    "#- filtres=32 detectores de características(filtros) \n",
    "#- kernel_size= (3,3) son filtros de 3x3\n",
    "#- input_shape es el tamaño de las imagenes (filas, columnas, canales de color)\n",
    "#- activation es poner la función de activación para despertar las neuronas una vez aplicada al convolución\n",
    "classifier.add(Conv2D(filters = 32,kernel_size = (3, 3), \n",
    "                      input_shape = (64, 64, 3), activation = \"relu\"))"
   ]
  },
  {
   "cell_type": "markdown",
   "metadata": {},
   "source": [
    "### --- Paso 2 - Max Pooling"
   ]
  },
  {
   "cell_type": "code",
   "execution_count": 5,
   "metadata": {},
   "outputs": [],
   "source": [
    "#-pool_size es la matriz 2x2 del Max Pooling\n",
    "classifier.add(MaxPooling2D(pool_size = (2,2)))"
   ]
  },
  {
   "cell_type": "code",
   "execution_count": 6,
   "metadata": {},
   "outputs": [],
   "source": [
    "# Una segunda capa de convolución y max pooling\n",
    "\n",
    "classifier.add(Conv2D(filters = 32,kernel_size = (3, 3), activation = \"relu\"))\n",
    "\n",
    "classifier.add(MaxPooling2D(pool_size = (2,2)))"
   ]
  },
  {
   "cell_type": "markdown",
   "metadata": {},
   "source": [
    "### --- Paso 3 - Flattening"
   ]
  },
  {
   "cell_type": "code",
   "execution_count": 7,
   "metadata": {},
   "outputs": [],
   "source": [
    "classifier.add(Flatten())"
   ]
  },
  {
   "cell_type": "markdown",
   "metadata": {},
   "source": [
    "### --- Paso 4 - Full Connection"
   ]
  },
  {
   "cell_type": "code",
   "execution_count": 8,
   "metadata": {},
   "outputs": [],
   "source": [
    "# -units es el numero de nodos que añadimos a la capa oculta(se suele poner la media entre las entradas y el nodo de salida)\n",
    "# -Kernel_initializer para elegir la funcion que usaran los pesos\n",
    "# -activation es la funcion de activacion para activar en la capa oculta (relu=rectificador lineal unitario)\n",
    "classifier.add(Dense(units = 128, activation = \"relu\"))\n",
    "classifier.add(Dense(units = 1, activation = \"sigmoid\"))"
   ]
  },
  {
   "cell_type": "code",
   "execution_count": 9,
   "metadata": {},
   "outputs": [],
   "source": [
    "# Compilar la CNN\n",
    "\n",
    "# -optimizer se encarga de buscar el conjunto optimo de pesos, usamos el algortimo adam\n",
    "# -loss es la funcion de perdidas, la que minimiza el error\n",
    "# -metrics es la metrica (la binaria de cross entropy en este caso ya que es perro o gato)\n",
    "\n",
    "classifier.compile(optimizer = \"adam\", loss = \"binary_crossentropy\", metrics = [\"accuracy\"])"
   ]
  },
  {
   "cell_type": "markdown",
   "metadata": {},
   "source": [
    "# Parte 2 - Ajustar la CNN a las imágenes para entrenar"
   ]
  },
  {
   "cell_type": "code",
   "execution_count": 12,
   "metadata": {},
   "outputs": [
    {
     "name": "stdout",
     "output_type": "stream",
     "text": [
      "Found 8000 images belonging to 2 classes.\n",
      "Found 2000 images belonging to 2 classes.\n",
      "Epoch 1/3\n",
      "100/100 [==============================] - 272s 3s/step - loss: 0.6006 - accuracy: 0.6744 - val_loss: 0.5569 - val_accuracy: 0.6480\n",
      "Epoch 2/3\n",
      "100/100 [==============================] - 279s 3s/step - loss: 0.5823 - accuracy: 0.6856 - val_loss: 0.5279 - val_accuracy: 0.6902\n",
      "Epoch 3/3\n",
      "100/100 [==============================] - 242s 2s/step - loss: 0.5559 - accuracy: 0.7194 - val_loss: 0.4313 - val_accuracy: 0.7371\n"
     ]
    },
    {
     "data": {
      "text/plain": [
       "<keras.callbacks.callbacks.History at 0x7f9a2c05a3d0>"
      ]
     },
     "execution_count": 12,
     "metadata": {},
     "output_type": "execute_result"
    }
   ],
   "source": [
    "from keras.preprocessing.image import ImageDataGenerator\n",
    "\n",
    "#lo de abajo es copiado-pegado de https://keras.io/preprocessing/image/. Con esto realizamos cambios\n",
    "#aleatorios a nuestras imagenes de training para que busquen patrones, en definitva realizamos \n",
    "#transofrmaciones a nuestras imagenes. Asi la NN tendrá mas info para aprender.\n",
    "\n",
    "train_datagen = ImageDataGenerator(\n",
    "        rescale=1./255, #transforma los px's en vez de 0 a 255 de 0 a 1\n",
    "        shear_range=0.2,\n",
    "        zoom_range=0.2,\n",
    "        horizontal_flip=True) #volteo horizontal\n",
    "\n",
    "test_datagen = ImageDataGenerator(rescale=1./255)\n",
    "\n",
    "training_dataset = train_datagen.flow_from_directory('dataset/training_set',\n",
    "                                                    target_size=(64, 64),\n",
    "                                                    batch_size=32, #cantidad de imagenes que pasaran por la NN antes de volver a cargar los pesos\n",
    "                                                    class_mode='binary') #perros o gatos por eso binario\n",
    "\n",
    "testing_dataset = test_datagen.flow_from_directory('dataset/test_set',\n",
    "                                                target_size=(64, 64),\n",
    "                                                batch_size=32,\n",
    "                                                class_mode='binary')\n",
    "\n",
    "classifier.fit_generator(training_dataset,\n",
    "                        steps_per_epoch=100,\n",
    "                        epochs=3,\n",
    "                        validation_data=testing_dataset,\n",
    "                        validation_steps=2000)"
   ]
  },
  {
   "cell_type": "markdown",
   "metadata": {},
   "source": [
    "# Parte 3 - Cómo hacer nuevas predicciones"
   ]
  },
  {
   "cell_type": "code",
   "execution_count": 21,
   "metadata": {},
   "outputs": [
    {
     "name": "stdout",
     "output_type": "stream",
     "text": [
      "El animal de la foto es un perro\n"
     ]
    }
   ],
   "source": [
    "import numpy as np\n",
    "from keras.preprocessing import image\n",
    "test_image = image.load_img('dataset/single_prediction/nauka.jpg', target_size = (64, 64))\n",
    "test_image = image.img_to_array(test_image)\n",
    "test_image = np.expand_dims(test_image, axis = 0)\n",
    "result = classifier.predict(test_image)\n",
    "training_dataset.class_indices\n",
    "if result[0][0] == 1:\n",
    "    prediction = 'perro'\n",
    "else:\n",
    "    prediction = 'gato'\n",
    "\n",
    "print(\"El animal de la foto es un \" + prediction)"
   ]
  },
  {
   "cell_type": "code",
   "execution_count": null,
   "metadata": {},
   "outputs": [],
   "source": []
  }
 ],
 "metadata": {
  "kernelspec": {
   "display_name": "Python 3",
   "language": "python",
   "name": "python3"
  },
  "language_info": {
   "codemirror_mode": {
    "name": "ipython",
    "version": 3
   },
   "file_extension": ".py",
   "mimetype": "text/x-python",
   "name": "python",
   "nbconvert_exporter": "python",
   "pygments_lexer": "ipython3",
   "version": "3.7.6"
  }
 },
 "nbformat": 4,
 "nbformat_minor": 4
}
